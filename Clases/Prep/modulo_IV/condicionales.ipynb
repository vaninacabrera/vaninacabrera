{
 "cells": [
  {
   "cell_type": "code",
   "execution_count": 1,
   "metadata": {},
   "outputs": [],
   "source": [
    "a=5\n",
    "b=7"
   ]
  },
  {
   "cell_type": "code",
   "execution_count": 2,
   "metadata": {},
   "outputs": [
    {
     "name": "stdout",
     "output_type": "stream",
     "text": [
      "a es menor a b\n"
     ]
    }
   ],
   "source": [
    "if a<b:\n",
    "    print(\"a es menor a b\")\n",
    "elif a>b:\n",
    "    print(\"a es mayor a b\")\n",
    "else: \n",
    "    print(\"a y b son iguales\")\n",
    "    "
   ]
  },
  {
   "cell_type": "code",
   "execution_count": 3,
   "metadata": {},
   "outputs": [
    {
     "ename": "SyntaxError",
     "evalue": "expected ':' (1314792114.py, line 3)",
     "output_type": "error",
     "traceback": [
      "\u001b[1;36m  Cell \u001b[1;32mIn[3], line 3\u001b[1;36m\u001b[0m\n\u001b[1;33m    if x>0\u001b[0m\n\u001b[1;37m          ^\u001b[0m\n\u001b[1;31mSyntaxError\u001b[0m\u001b[1;31m:\u001b[0m expected ':'\n"
     ]
    }
   ],
   "source": [
    "# Ejemplo de mala sintaxis, sin poner los : al final del condicional\n",
    "x=10\n",
    "if x>0\n",
    "print(\"x es positivo\")"
   ]
  },
  {
   "cell_type": "code",
   "execution_count": 4,
   "metadata": {},
   "outputs": [
    {
     "name": "stdout",
     "output_type": "stream",
     "text": [
      "x es positivo\n"
     ]
    }
   ],
   "source": [
    "# Corrigiendo el error:\n",
    "x=10\n",
    "if x>0:\n",
    "    print(\"x es positivo\")"
   ]
  },
  {
   "cell_type": "code",
   "execution_count": 5,
   "metadata": {},
   "outputs": [
    {
     "ename": "IndentationError",
     "evalue": "expected an indented block after 'if' statement on line 3 (1601934329.py, line 4)",
     "output_type": "error",
     "traceback": [
      "\u001b[1;36m  Cell \u001b[1;32mIn[5], line 4\u001b[1;36m\u001b[0m\n\u001b[1;33m    print(\"x es positivo\")\u001b[0m\n\u001b[1;37m    ^\u001b[0m\n\u001b[1;31mIndentationError\u001b[0m\u001b[1;31m:\u001b[0m expected an indented block after 'if' statement on line 3\n"
     ]
    }
   ],
   "source": [
    "# Tenemos identaciones(sangrias) obligatorias que identifican que un comando pertenece a ese bloque, ejemplo de mala identación\n",
    "x=10\n",
    "if x>0:\n",
    "print(\"x es positivo\")"
   ]
  },
  {
   "cell_type": "code",
   "execution_count": 6,
   "metadata": {},
   "outputs": [
    {
     "name": "stdout",
     "output_type": "stream",
     "text": [
      "x es positivo\n"
     ]
    }
   ],
   "source": [
    "# Corrigiendo ese error.\n",
    "x=10\n",
    "if x>0:\n",
    "    print(\"x es positivo\")"
   ]
  },
  {
   "cell_type": "code",
   "execution_count": 7,
   "metadata": {},
   "outputs": [
    {
     "name": "stdout",
     "output_type": "stream",
     "text": [
      "soy menor\n"
     ]
    }
   ],
   "source": [
    "num=5\n",
    "\n",
    "if num>10:\n",
    "    print(\"soy mayor\")\n",
    "elif num<10:\n",
    "    print('soy menor')\n",
    "else:\n",
    "    print('soy igual')\n",
    "\n"
   ]
  },
  {
   "cell_type": "code",
   "execution_count": 8,
   "metadata": {},
   "outputs": [
    {
     "name": "stdout",
     "output_type": "stream",
     "text": [
      "Soy menor que 10 y como estoy primero me voy a ejecutar\n"
     ]
    }
   ],
   "source": [
    "#  Se ejecuta en un orden secuencial, cuando encuentra una que se cumple ahí para.\n",
    "\n",
    "num=5\n",
    "if num>10:\n",
    "    print('soy mayor')\n",
    "elif num<10:\n",
    "    print('Soy menor que 10 y como estoy primero me voy a ejecutar')\n",
    "elif num<7:\n",
    "    print('Soy también menor')\n",
    "else: \n",
    "    print('Soy igual')"
   ]
  }
 ],
 "metadata": {
  "kernelspec": {
   "display_name": "Python 3",
   "language": "python",
   "name": "python3"
  },
  "language_info": {
   "codemirror_mode": {
    "name": "ipython",
    "version": 3
   },
   "file_extension": ".py",
   "mimetype": "text/x-python",
   "name": "python",
   "nbconvert_exporter": "python",
   "pygments_lexer": "ipython3",
   "version": "3.10.11"
  },
  "orig_nbformat": 4
 },
 "nbformat": 4,
 "nbformat_minor": 2
}
